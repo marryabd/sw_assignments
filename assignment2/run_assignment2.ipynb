{
 "cells": [
  {
   "cell_type": "markdown",
   "id": "59cca736",
   "metadata": {},
   "source": [
    "# Finite State Machine (FSM) and ModThreeFSM: An Object-Oriented Design Approach\n",
    "\n",
    "## 1. Introduction:\n",
    "In this notebook, we will walk through the implementation of a specific Finite State Machine (FSM) and its subclass, **ModThreeFSM**, which computes the remainder when dividing a binary number by 3. This FSM solution uses **Object-Oriented Design** (OOD) principles, focusing on **modularity**, **encapsulation**, and **reusability**.\n",
    "\n",
    "The solution is broken down into the following key sections:\n",
    "- **Our FSM solution**: How we designed the FSM to handle state transitions.\n",
    "- **ModThreeFSM**: A specialized FSM to calculate the remainder of a binary number divided by 3.\n",
    "- **How our design follows OOD**: Explanation of how this solution adheres to key OOD principles.\n",
    "- **Examples**: Demonstrating the functionality with sample inputs.\n",
    "\n",
    "---\n",
    "## 2. The FiniteStateMachine Class: A Flexible and Reusable Template\n",
    "\n",
    "The `FiniteStateMachine` class is designed as a generic, reusable template for building any finite state machine, following key Object-Oriented Design (OOD) principles like **abstraction** and **encapsulation**.\n",
    "\n",
    "### Key Concepts in Our FSM Solution:\n",
    "\n",
    "#### 1. Abstraction\n",
    "- The `FiniteStateMachine` is implemented as an **abstract base class**, with an abstract `transition()` method that must be implemented by each subclass. This ensures that the FSM’s structure is reusable across different problems.\n",
    "- **Why This Matters**: Abstraction allows the core FSM structure to be reused while giving subclasses the flexibility to implement specific transition logic.\n",
    "\n",
    "#### 2. Encapsulation\n",
    "- FSM attributes such as `states`, `alphabet`, and `transitions` are encapsulated as **private** variables, accessible through **property methods**. This protects the FSM’s internal data from direct modification.\n",
    "- **Why This Matters**: Encapsulation ensures the FSM’s integrity, making it more robust and harder to misuse.\n",
    "\n",
    "#### 3. Warning and Exception Handling\n",
    "- **Exception Handling**: If an input symbol is not in the alphabet, or if the FSM tries to return an invalid final state, `ValueError` is raised. \n",
    "- **Why This Matters**: Proper error handling ensures that invalid input or states are flagged immediately, preventing unpredictable behavior.\n",
    "\n",
    "#### 4. State Management\n",
    "- The FSM tracks its `current_state`, which is publicly accessible and updated based on input transitions.\n",
    "- **Why This Matters**: Exposing the current state allows external components to observe or reset the FSM state while keeping other critical attributes protected.\n",
    "\n",
    "#### 5. Reset Functionality\n",
    "- The FSM can be reset to its initial state at any time using the `reset()` method, allowing it to process multiple input sequences cleanly.\n",
    "\n",
    "---\n",
    "\n",
    "This design ensures **flexibility**, **robustness**, and **reusability**, enabling developers to define specific FSM behaviors in subclasses like `ModThreeFSM`.\n",
    "\n",
    "---\n",
    "\n",
    "## 3. ModThreeFSM: A Specialized FSM for Binary Division by 3\n",
    "\n",
    "### Overview\n",
    "The **ModThreeFSM** is a subclass of the `FiniteStateMachine` that specializes in computing the remainder when a binary number is divided by 3. It operates with three states (`S0`, `S1`, `S2`), corresponding to the remainders of 0, 1, and 2.\n",
    "\n",
    "This class builds on the base FSM functionality by overriding the abstract `transition()` method and implementing a specific method, `compute_remainder()`, to solve the Mod 3 problem.\n",
    "\n",
    "### Key Requirements in ModThreeFSM\n",
    "\n",
    "#### Overriding the Abstract `transition()` Method\n",
    "`ModThreeFSM` implements the `transition()` method, which handles state transitions based on input symbols (`0` or `1`). The method looks up the current state and input symbol in the transitions dictionary and updates the FSM accordingly.\n",
    "\n",
    "**Explanation:**\n",
    "- The `transition()` method checks the current state and input symbol against the predefined transitions.\n",
    "- If a transition isn’t found, the FSM remains in the current state as a fallback and generates a **warning** to notify the user.\n",
    "\n",
    "#### Specific Method: `compute_remainder()`\n",
    "`ModThreeFSM` introduces a specific method called `compute_remainder()`, which processes a binary string, simulates the FSM’s state transitions, and computes the remainder.\n",
    "\n",
    "**Explanation:**\n",
    "- **Resetting**: Before each computation, the FSM is reset to the initial state (`S0`), ensuring that previous results don’t affect the current run.\n",
    "- **Handling Empty Input**: If an empty binary string is passed, the method returns `0`.\n",
    "- **Input Processing**: The binary string is processed using `process_input()`, and each symbol updates the FSM state.\n",
    "- **Final State Mapping**: The final state is mapped to a remainder using a `remainder_map`, with `S0` mapped to `0`, `S1` to `1`, and `S2` to `2`.\n",
    "\n",
    "---\n",
    "\n",
    "## 4. How the Solution Follows Object-Oriented Design (OOD) Principles\n",
    "\n",
    "The **FiniteStateMachine** and **ModThreeFSM** classes adhere to key **Object-Oriented Design (OOD)** principles, ensuring a solution that is **modular**, **reusable**, and **maintainable**. Below is a summary of the OOD principles applied:\n",
    "\n",
    "### 1. Abstraction\n",
    "- The `FiniteStateMachine` class abstracts the common FSM structure, and the `transition()` method is defined as abstract. This enforces that each subclass must implement its own state transition logic, keeping the design flexible.\n",
    "\n",
    "### 2. Encapsulation\n",
    "- Key FSM attributes (`__states`, `__alphabet`, `__transitions`) are private and accessed via property methods. This ensures that internal data cannot be modified directly, protecting the integrity of the FSM.\n",
    "\n",
    "### 3. Inheritance\n",
    "- `ModThreeFSM` inherits from `FiniteStateMachine`, reusing the generic state management features while implementing specific behavior for Mod 3 remainders. This promotes code reuse and modularity.\n",
    "\n",
    "### 4. Polymorphism\n",
    "- The abstract `transition()` method enables **polymorphism** by allowing different FSM implementations to share the same interface while exhibiting different behaviors. The `process_input()` method works consistently across all FSM subclasses.\n",
    "\n",
    "### 5. Single Responsibility Principle (SRP)\n",
    "- Each class has a single, clear responsibility: `FiniteStateMachine` handles generic FSM mechanics, while `ModThreeFSM` handles Mod 3 transitions. This makes the design easier to maintain and modify.\n",
    "\n",
    "### 6. Open/Closed Principle (OCP)\n",
    "- The FSM design is **open for extension** but **closed for modification**. Subclasses extend the base FSM functionality without altering its internal logic, following the OCP.\n",
    "\n",
    "### 7. Liskov Substitution Principle (LSP)\n",
    "- Any subclass of `FiniteStateMachine` (such as `ModThreeFSM`) can replace the base class without altering program behavior. This ensures that all FSMs can be used interchangeably.\n",
    "\n",
    "### 8. Interface Segregation Principle (ISP)\n",
    "- The `FiniteStateMachine` class defines a simple, minimal interface, requiring only essential methods like `transition()` to be implemented by subclasses. This avoids burdening subclasses with unnecessary functionality.\n",
    "\n",
    "### 9. Dependency Inversion Principle (DIP)\n",
    "- The base FSM logic does not depend on specific state transition details. Instead, subclasses like `ModThreeFSM` handle their own transitions, making the high-level FSM design independent of specific implementations.\n",
    "\n",
    "---\n",
    "\n",
    "### Summary\n",
    "This FSM solution follows key OOD principles such as **abstraction**, **encapsulation**, **inheritance**, and **polymorphism**, ensuring a design that is flexible, scalable, and robust. The application of SOLID principles further enhances the **modularity** and **reusability** of the solution.\n",
    "\n",
    "\n",
    "---\n",
    "\n",
    "## 5. Running ModThreeFSM with an Example\n",
    "\n",
    "In this section, we will create an instance of `ModThreeFSM` and test it with a sample binary input. The `compute_remainder()` method will be used to compute the remainder when a binary number is divided by 3.\n",
    "\n",
    "### Example:\n"
   ]
  },
  {
   "cell_type": "code",
   "execution_count": 1,
   "id": "5a972dc0",
   "metadata": {},
   "outputs": [
    {
     "name": "stdout",
     "output_type": "stream",
     "text": [
      "Binary input: 101\n",
      "Remainder when 5 is divided by 3: 2\n"
     ]
    }
   ],
   "source": [
    "# Assuming the classes are in fsm.py and modthreefsm.py\n",
    "from modul_2.mod_three_fsm import ModThreeFSM\n",
    "\n",
    "# Initialize ModThreeFSM\n",
    "mod_three = ModThreeFSM()\n",
    "\n",
    "# Test binary input: 101 (which is 5 in decimal)\n",
    "binary_input = \"101\"\n",
    "remainder = mod_three.compute_remainder(binary_input)\n",
    "\n",
    "print(f\"Binary input: {binary_input}\")\n",
    "print(f\"Remainder when {int(binary_input, 2)} is divided by 3: {remainder}\")\n"
   ]
  },
  {
   "cell_type": "markdown",
   "id": "3f0beefa",
   "metadata": {},
   "source": [
    "## 6. Testing Edge Cases\n",
    "\n",
    "In this section, we will test how the `ModThreeFSM` handles various edge cases, ensuring that the implementation is robust and behaves as expected in different scenarios.\n",
    "\n",
    "### 1. Empty Input\n",
    "\n"
   ]
  },
  {
   "cell_type": "code",
   "execution_count": 2,
   "id": "57fc03f7",
   "metadata": {},
   "outputs": [
    {
     "name": "stdout",
     "output_type": "stream",
     "text": [
      "Empty input: ''\n",
      "Remainder for empty input: 0\n"
     ]
    }
   ],
   "source": [
    "# Empty binary input\n",
    "empty_input = ''\n",
    "\n",
    "# Compute remainder for empty input\n",
    "remainder_empty = mod_three.compute_remainder(empty_input)\n",
    "\n",
    "# Output the result\n",
    "print(f\"Empty input: '{empty_input}'\")\n",
    "print(f\"Remainder for empty input: {remainder_empty}\")"
   ]
  },
  {
   "cell_type": "markdown",
   "id": "fa4a6470",
   "metadata": {},
   "source": [
    "### 2. Very Large Input\n",
    "\n",
    "The FSM should handle large inputs without any issues, and the remainder will be computed correctly.\n"
   ]
  },
  {
   "cell_type": "code",
   "execution_count": 5,
   "id": "0a9bfe58",
   "metadata": {},
   "outputs": [
    {
     "name": "stdout",
     "output_type": "stream",
     "text": [
      "Very large input: '1111111111... (truncated)'\n",
      "Input length: 100\n",
      "Remainder for very large input: 0\n"
     ]
    }
   ],
   "source": [
    "# Very large binary input (100 bits of '1's)\n",
    "large_input = '1' * 100\n",
    "\n",
    "# Compute remainder for the large input\n",
    "remainder_large = mod_three.compute_remainder(large_input)\n",
    "\n",
    "# Output the result\n",
    "print(f\"Very large input: '{large_input[:10]}... (truncated)'\")\n",
    "print(f\"Input length: {len(large_input)}\")\n",
    "print(f\"Remainder for very large input: {remainder_large}\")\n"
   ]
  },
  {
   "cell_type": "markdown",
   "id": "195e7f21",
   "metadata": {},
   "source": [
    "### 3. Invalid Characters in Input\n"
   ]
  },
  {
   "cell_type": "code",
   "execution_count": 4,
   "id": "5ec56107",
   "metadata": {},
   "outputs": [
    {
     "name": "stdout",
     "output_type": "stream",
     "text": [
      "Error for invalid input '10201': Invalid input symbol: 2\n"
     ]
    }
   ],
   "source": [
    "# Binary input with an invalid character (contains '2')\n",
    "invalid_input = '10201'\n",
    "\n",
    "# Try to compute the remainder for the invalid input and catch the error\n",
    "try:\n",
    "    remainder_invalid = mod_three.compute_remainder(invalid_input)\n",
    "except ValueError as e:\n",
    "    print(f\"Error for invalid input '{invalid_input}': {e}\")\n"
   ]
  },
  {
   "cell_type": "markdown",
   "id": "8a5979c4",
   "metadata": {},
   "source": [
    "### Summary\n",
    "In this notebook, we implemented a **Finite State Machine (FSM)** and a specialized subclass, **ModThreeFSM**, to compute the remainder when dividing a binary number by 3. The FSM framework was designed with key Object-Oriented Design (OOD) principles, including **abstraction** and **encapsulation**, ensuring flexibility, reusability, and robustness.\n",
    "\n",
    "We tested our FSM with various cases:\n",
    "- **Normal cases** where binary strings were processed to compute remainders.\n",
    "- **Edge cases** where empty input and invalid input characters were handled, ensuring the FSM's robustness in handling unexpected scenarios.\n",
    "\n",
    "Additionally, the ModThreeFSM class was shown to handle large binary inputs effectively, further demonstrating the versatility and scalability of the FSM design.\n",
    "\n",
    "---\n",
    "\n",
    "### Conclusion\n",
    "The implementation of **ModThreeFSM** using the FSM framework exemplifies the power of Object-Oriented Design in creating flexible and reusable systems. By encapsulating the core FSM logic and abstracting the transition logic, we were able to extend the functionality of the FSM for a specific use case (computing remainders for binary division by 3) with minimal effort.\n",
    "\n",
    "This approach ensures that the FSM can be easily adapted for other purposes by subclassing and defining specific transition rules, making the design highly modular and adaptable to a variety of state-driven problems.\n"
   ]
  },
  {
   "cell_type": "code",
   "execution_count": null,
   "id": "2f605caa",
   "metadata": {},
   "outputs": [],
   "source": []
  }
 ],
 "metadata": {
  "kernelspec": {
   "display_name": "Python (myenv)",
   "language": "python",
   "name": "myenv"
  },
  "language_info": {
   "codemirror_mode": {
    "name": "ipython",
    "version": 3
   },
   "file_extension": ".py",
   "mimetype": "text/x-python",
   "name": "python",
   "nbconvert_exporter": "python",
   "pygments_lexer": "ipython3",
   "version": "3.8.8"
  }
 },
 "nbformat": 4,
 "nbformat_minor": 5
}
