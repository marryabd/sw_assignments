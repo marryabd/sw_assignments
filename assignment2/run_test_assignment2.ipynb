{
 "cells": [
  {
   "cell_type": "markdown",
   "id": "1805cc34",
   "metadata": {},
   "source": [
    "# Testing the `FiniteStateMachine` and `ModThreeFSM` Class\n",
    "\n",
    "In this notebook, we will run the unit tests for the `FiniteStateMachine` and `ModThreeFSM` classes defined in the `modul_2` module. The tests cover various scenarios, including normal input, edge cases, and error handling.\n",
    "\n",
    "## Importing Required Libraries\n",
    "\n",
    "Let's start by importing the necessary libraries and the test class."
   ]
  },
  {
   "cell_type": "code",
   "execution_count": 1,
   "id": "b4137a73",
   "metadata": {},
   "outputs": [],
   "source": [
    "# Importing necessary libraries\n",
    "import unittest\n",
    "from tests.test_fsm import TestFiniteStateMachine\n",
    "from tests.test_mod_three_fsm import TestModThreeFSM"
   ]
  },
  {
   "cell_type": "markdown",
   "id": "ae0df902",
   "metadata": {},
   "source": [
    "## Running the Tests\n",
    "\n",
    "Now we will create a test suite and run all the tests in the `TestFiniteStateMachine` and `TestModThreeFSM` class."
   ]
  },
  {
   "cell_type": "code",
   "execution_count": 2,
   "id": "42c40192",
   "metadata": {},
   "outputs": [
    {
     "name": "stderr",
     "output_type": "stream",
     "text": [
      "test_final_state (tests.test_fsm.TestFiniteStateMachine) ... ok\n",
      "test_initial_state (tests.test_fsm.TestFiniteStateMachine) ... ok\n",
      "test_invalid_input (tests.test_fsm.TestFiniteStateMachine) ... ok\n",
      "test_is_in_final_state (tests.test_fsm.TestFiniteStateMachine) ... ok\n",
      "test_not_final_state (tests.test_fsm.TestFiniteStateMachine) ... ok\n",
      "test_process_input (tests.test_fsm.TestFiniteStateMachine) ... ok\n",
      "test_reset (tests.test_fsm.TestFiniteStateMachine) ... ok\n",
      "test_valid_transition (tests.test_fsm.TestFiniteStateMachine) ... ok\n",
      "test_compute_remainder (tests.test_mod_three_fsm.TestModThreeFSM) ... ok\n",
      "test_empty_input (tests.test_mod_three_fsm.TestModThreeFSM) ... ok\n",
      "test_modthreefsm_transition (tests.test_mod_three_fsm.TestModThreeFSM) ... ok\n",
      "\n",
      "----------------------------------------------------------------------\n",
      "Ran 11 tests in 0.028s\n",
      "\n",
      "OK\n"
     ]
    },
    {
     "data": {
      "text/plain": [
       "<unittest.runner.TextTestResult run=11 errors=0 failures=0>"
      ]
     },
     "execution_count": 2,
     "metadata": {},
     "output_type": "execute_result"
    }
   ],
   "source": [
    "# Create a test suite and run the tests\n",
    "\n",
    "suite = unittest.TestSuite()\n",
    "suite.addTests(unittest.TestLoader().loadTestsFromTestCase(TestFiniteStateMachine))\n",
    "suite.addTests(unittest.TestLoader().loadTestsFromTestCase(TestModThreeFSM))\n",
    "unittest.TextTestRunner(verbosity=2).run(suite)\n"
   ]
  },
  {
   "cell_type": "markdown",
   "id": "6064efc7",
   "metadata": {},
   "source": [
    "\n",
    "## Summary\n",
    "\n",
    "In this notebook, we have successfully run unit tests for the `FiniteStateMachine` and `ModThreeFSM` classes. The tests were designed to cover a range of scenarios, including normal cases, edge cases, and exception handling.\n",
    "\n",
    "- **Normal Case**: \n",
    "    - For both classes, we evaluated the standard input processing to ensure the state transitions were working correctly. This included verifying that the FSM transitioned between states based on valid input symbols, and for `ModThreeFSM`, the correct remainder was computed when a binary number was divided by 3.\n",
    "\n",
    "- **Edge Cases**:\n",
    "    - We tested empty input for `ModThreeFSM` to ensure the function correctly returned a remainder of 0 when no binary digits were provided.\n",
    "    - For `FiniteStateMachine`, we verified that valid transitions were processed correctly and that the FSM could reset to its initial state after processing an input sequence.\n",
    "\n",
    "- **Raises**:\n",
    "    - We tested that the FSM correctly raised a `ValueError` for invalid input symbols that were not part of the defined alphabet (e.g., using characters like 'c' in the `FiniteStateMachine`). This ensures the FSM handles unexpected or incorrect input gracefully, preventing undefined behavior.\n",
    "\n",
    "---\n",
    "## Version Information\n",
    "\n",
    "- **Python Version**: 3.8.8\n"
   ]
  },
  {
   "cell_type": "code",
   "execution_count": null,
   "id": "8b16dffe",
   "metadata": {},
   "outputs": [],
   "source": []
  }
 ],
 "metadata": {
  "kernelspec": {
   "display_name": "Python (myenv)",
   "language": "python",
   "name": "myenv"
  },
  "language_info": {
   "codemirror_mode": {
    "name": "ipython",
    "version": 3
   },
   "file_extension": ".py",
   "mimetype": "text/x-python",
   "name": "python",
   "nbconvert_exporter": "python",
   "pygments_lexer": "ipython3",
   "version": "3.8.8"
  }
 },
 "nbformat": 4,
 "nbformat_minor": 5
}
