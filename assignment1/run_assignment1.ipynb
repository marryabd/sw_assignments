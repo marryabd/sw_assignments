{
 "cells": [
  {
   "cell_type": "markdown",
   "metadata": {},
   "source": [
    "# Find Best Threshold\n",
    "\n",
    "## Introduction\n",
    "This notebook demonstrates the use of the `find_best_threshold` function, which is designed to determine the optimal threshold for classification problems. The function takes lists of thresholds, true positives (TP), false negatives (FN), true negatives (TN), and false positives (FP) as inputs.\n",
    "\n",
    "The primary goal of the function is to find the best threshold that maximizes recall (greater than or equal to 0.9) while also maximizing precision when possible. The function also includes mechanisms to handle various edge cases, such as:\n",
    "\n",
    "- All inputs being zero\n",
    "- Valid inputs that yield recall below the required threshold\n",
    "- Handling combinations of true positives and false negatives that affect the calculation\n",
    "\n",
    "By the end of this notebook, users will have a clear understanding of how to use the function, what to expect in different scenarios, and how the function handles corner cases.\n",
    "\n"
   ]
  },
  {
   "cell_type": "code",
   "execution_count": 1,
   "metadata": {
    "colab": {
     "base_uri": "https://localhost:8080/",
     "height": 315
    },
    "executionInfo": {
     "elapsed": 257,
     "status": "error",
     "timestamp": 1727890659290,
     "user": {
      "displayName": "Maryam Abdollahi",
      "userId": "12356155054457316082"
     },
     "user_tz": 240
    },
    "id": "iQ_zfbtT63i4",
    "outputId": "f238a8b9-955e-488c-b7ae-456df2352d77"
   },
   "outputs": [],
   "source": [
    "from modul_1.functions import find_best_threshold"
   ]
  },
  {
   "cell_type": "markdown",
   "metadata": {},
   "source": [
    "## Function Description\n",
    "\n",
    "### `find_best_threshold`\n",
    "\n",
    "The `find_best_threshold` function is designed to determine the optimal threshold for classification problems by evaluating the relationship between true positives, false negatives, true negatives, and false positives.\n",
    "\n",
    "### Parameters\n",
    "\n",
    "- **thresholds (list)**: A list of threshold values (float) to evaluate.\n",
    "- **tp (list)**: A list of true positives corresponding to each threshold.\n",
    "- **fn (list)**: A list of false negatives corresponding to each threshold.\n",
    "- **tn (list, optional)**: A list of true negatives corresponding to each threshold. Default is `None`.\n",
    "- **fp (list, optional)**: A list of false positives corresponding to each threshold. Default is `None`.\n",
    "\n",
    "### Returns\n",
    "\n",
    "- **float or None**: The function returns the best threshold that yields recall greater than or equal to 0.9 and maximizes precision (if FP is provided). If no threshold meets the condition, the function returns `None`.\n",
    "\n",
    "### Raises\n",
    "\n",
    "- **ValueError**: The function raises a ValueError if any of the following conditions are met:\n",
    "  - Mandatory input lists (thresholds, TP, FN) are empty.\n",
    "  - Any input value is negative.\n",
    "  - Input lists are of different lengths.\n",
    "\n",
    "### Behavior\n",
    "\n",
    "The function evaluates each threshold and calculates recall based on the provided TP and FN values. If both TP and FN are zero for a threshold, a warning is issued, and that threshold is skipped. The function also computes precision if FP and TN values are provided and updates the best threshold accordingly.\n",
    "\n",
    "This function is robust against various edge cases, ensuring that users receive appropriate warnings when inputs are not valid for threshold calculations.\n"
   ]
  },
  {
   "cell_type": "markdown",
   "metadata": {},
   "source": [
    "## Example Cases\n",
    "\n",
    "### 1. Normal Case\n",
    "\n",
    "In this example, we will demonstrate the typical usage of the `find_best_threshold` function with valid input data. This case represents a standard scenario where all input lists are filled with appropriate values.\n",
    "\n",
    "#### Example:\n",
    "\n",
    "We will use the following data:\n",
    "- **Thresholds**: A list of potential thresholds for evaluation.\n",
    "- **True Positives (TP)**: The count of true positive predictions for each threshold.\n",
    "- **False Negatives (FN)**: The count of false negative predictions for each threshold.\n",
    "- **True Negatives (TN)**: The count of true negative predictions for each threshold.\n",
    "- **False Positives (FP)**: The count of false positive predictions for each threshold.\n",
    "\n",
    "Here’s the sample data we will use:\n",
    "\n"
   ]
  },
  {
   "cell_type": "code",
   "execution_count": 2,
   "metadata": {
    "id": "H-lNLPbw-tQb"
   },
   "outputs": [
    {
     "name": "stdout",
     "output_type": "stream",
     "text": [
      "Best Threshold: 0.1\n"
     ]
    }
   ],
   "source": [
    "thresholds = [0.1, 0.2, 0.3, 0.4, 0.5]\n",
    "tp = [50, 48, 45, 40, 35]\n",
    "tn = [30, 32, 33, 40, 50]\n",
    "fp = [10, 12, 14, 18, 20]\n",
    "fn = [5, 6, 7, 8, 9]\n",
    "\n",
    "best_threshold = find_best_threshold(thresholds, tp, fn)\n",
    "print(f\"Best Threshold: {best_threshold}\")\n"
   ]
  },
  {
   "cell_type": "markdown",
   "metadata": {},
   "source": [
    "#### Expected Output:\n",
    "For the given input data, the function should return a threshold value based on the calculated recall and precision. The expected output is:\n",
    "Best Threshold: 0.1\n",
    "\n",
    "This output indicates that the threshold of 0.1 yields the optimal balance of recall and precision based on the provided data."
   ]
  },
  {
   "cell_type": "markdown",
   "metadata": {},
   "source": [
    "## Corner Cases\n",
    "\n",
    "### 1. All Inputs are Zero\n",
    "\n",
    "This case tests the function's behavior when all inputs for true positives, false negatives, true negatives, and false positives are zero. \n",
    "\n",
    "#### Example:\n"
   ]
  },
  {
   "cell_type": "code",
   "execution_count": 3,
   "metadata": {},
   "outputs": [
    {
     "name": "stdout",
     "output_type": "stream",
     "text": [
      "Best Threshold: None\n"
     ]
    },
    {
     "name": "stderr",
     "output_type": "stream",
     "text": [
      "C:\\Users\\mariam\\Desktop\\sw_assignments\\myenv\\lib\\site-packages\\modul_1\\functions.py:47: UserWarning: Both true positive and false negative are zero, recall cannot be calculated.\n",
      "  warnings.warn(\"Both true positive and false negative are zero, recall cannot be calculated.\",\n"
     ]
    }
   ],
   "source": [
    "thresholds = [0.1, 0.2]\n",
    "tp = [0, 0]\n",
    "fn = [0, 0]\n",
    "tn = [0, 0]\n",
    "fp = [0, 0]\n",
    "\n",
    "best_threshold = find_best_threshold(thresholds, tp, fn)\n",
    "print(f\"Best Threshold: {best_threshold}\")\n"
   ]
  },
  {
   "cell_type": "markdown",
   "metadata": {},
   "source": [
    "#### Expected Behavior:\n",
    "A warning should be raised indicating that both true positives and false negatives are zero, and the function should return None."
   ]
  },
  {
   "cell_type": "markdown",
   "metadata": {},
   "source": [
    "### 2. Valid Inputs with Recall Below 0.9\n",
    "This case tests the function's behavior when valid true positive and false negative counts yield a recall below 0.9.\n",
    "\n",
    "#### Example:"
   ]
  },
  {
   "cell_type": "code",
   "execution_count": 4,
   "metadata": {},
   "outputs": [
    {
     "name": "stdout",
     "output_type": "stream",
     "text": [
      "Best Threshold: None\n"
     ]
    }
   ],
   "source": [
    "thresholds = [0.1, 0.2, 0.3]\n",
    "tp = [5, 2, 1]\n",
    "fn = [10, 8, 9]\n",
    "tn = [30, 32, 33]\n",
    "fp = [5, 6, 7]\n",
    "\n",
    "best_threshold = find_best_threshold(thresholds, tp, fn, tn, fp)\n",
    "print(f\"Best Threshold: {best_threshold}\")\n"
   ]
  },
  {
   "cell_type": "markdown",
   "metadata": {},
   "source": [
    "#### Expected Behavior:\n",
    "The function should return None, as none of the thresholds meet the recall requirement."
   ]
  },
  {
   "cell_type": "markdown",
   "metadata": {},
   "source": [
    "### 3. Mixed Values\n",
    "This case tests how the function handles a mix of valid and invalid thresholds, including scenarios where TP or FN is zero.\n",
    "\n",
    "#### Example:"
   ]
  },
  {
   "cell_type": "code",
   "execution_count": 5,
   "metadata": {},
   "outputs": [
    {
     "name": "stdout",
     "output_type": "stream",
     "text": [
      "Best Threshold: 0.2\n"
     ]
    }
   ],
   "source": [
    "thresholds = [0.1, 0.2, 0.3]\n",
    "tp = [0, 20, 30]\n",
    "fn = [0, 2, 3]\n",
    "tn = [5, 6, 7]\n",
    "fp = [0, 0, 0]\n",
    "\n",
    "best_threshold = find_best_threshold(thresholds, tp, fn)\n",
    "print(f\"Best Threshold: {best_threshold}\")"
   ]
  },
  {
   "cell_type": "markdown",
   "metadata": {},
   "source": [
    "#### Expected Behavior:\n",
    "The function should ignore the cases where both TP and FN are zero and return the best valid threshold based on the remaining data."
   ]
  },
  {
   "cell_type": "markdown",
   "metadata": {},
   "source": [
    "### 4. Missing Optional Inputs\n",
    "This case tests the function's behavior when the optional inputs (TN and FP) are not provided.\n",
    "\n",
    "#### Example:"
   ]
  },
  {
   "cell_type": "code",
   "execution_count": 6,
   "metadata": {},
   "outputs": [
    {
     "name": "stdout",
     "output_type": "stream",
     "text": [
      "Best Threshold: 0.1\n"
     ]
    }
   ],
   "source": [
    "thresholds = [0.1, 0.2, 0.3]\n",
    "tp = [50, 48, 45]\n",
    "fn = [5, 6, 7]\n",
    "\n",
    "best_threshold = find_best_threshold(thresholds, tp, fn)\n",
    "print(f\"Best Threshold: {best_threshold}\")\n"
   ]
  },
  {
   "cell_type": "markdown",
   "metadata": {},
   "source": [
    "#### Expected Behavior:\n",
    "In this scenario, the function will evaluate the provided thresholds based solely on the true positives (TP) and false negatives (FN) values. Since true negatives (TN) and false positives (FP) are not provided, the function will skip any precision calculations that require these inputs. However, it can still compute the recall for each threshold using the available TP and FN.\n",
    "\n",
    "### How the Function Processes the Inputs\n",
    "\n",
    "1. **Calculate Recall**: For each threshold, recall is computed using the formula:\n",
    "\n",
    "   \\[\n",
    "   \\text{Recall} = \\frac{TP}{TP + FN}\n",
    "   \\]\n",
    "\n",
    "2. **Check Recall Requirement**: The function checks if the recall is greater than or equal to 0.9. If it meets this condition, the threshold is added to the `valid_thresholds` list.\n",
    "\n",
    "3. **Choosing the Best Threshold**:\n",
    "   - If multiple valid thresholds exist in the `valid_thresholds` list and precision cannot be calculated due to missing TN and FP, the function defaults to choosing the minimum valid threshold.\n",
    "\n",
    "4. **Rationale for Choosing Minimum Threshold**: Selecting the minimum threshold aligns with the idea that a lower threshold may help increase true positives (TP) while minimizing false negatives (FN). This is especially important in classification problems where catching as many positive instances as possible is prioritized.\n",
    "\n",
    "If no valid thresholds meet the criteria, the function will return `None`, indicating that it was unable to find an appropriate threshold based on the provided data.\n"
   ]
  },
  {
   "cell_type": "markdown",
   "metadata": {},
   "source": [
    "### 5. Edge Case with Missing True Negatives (TN)\n",
    "This case examines how the function handles the situation when true negatives are missing.\n",
    "\n",
    "#### Example:"
   ]
  },
  {
   "cell_type": "code",
   "execution_count": 7,
   "metadata": {},
   "outputs": [
    {
     "name": "stdout",
     "output_type": "stream",
     "text": [
      "Best Threshold: 0.1\n"
     ]
    }
   ],
   "source": [
    "thresholds = [0.1, 0.2, 0.3]\n",
    "tp = [20, 15, 10]\n",
    "fn = [0, 2, 3]\n",
    "# No true negatives provided\n",
    "fp = [5, 10, 15]\n",
    "\n",
    "best_threshold = find_best_threshold(thresholds, tp, fn, fp=fp)\n",
    "print(f\"Best Threshold: {best_threshold}\")"
   ]
  },
  {
   "cell_type": "markdown",
   "metadata": {},
   "source": [
    "#### Expected Behavior:\n",
    "Even with missing TN, the function should still be able to compute recall and provide a valid threshold if the conditions are met."
   ]
  },
  {
   "cell_type": "markdown",
   "metadata": {},
   "source": [
    "## Summary\n",
    "\n",
    "In this notebook, we explored the functionality of the `find_best_threshold` function, which determines the optimal threshold for classification problems by evaluating true positives, false negatives, true negatives, and false positives. \n",
    "\n",
    "### Key Points:\n",
    "- The function is designed to maximize recall while also considering precision when applicable.\n",
    "- It handles various edge cases, such as:\n",
    "  - All inputs being zero.\n",
    "  - Valid inputs resulting in recall below the required threshold.\n",
    "  - Combinations of TP and FN where both are zero.\n",
    "  - Missing optional inputs (TN and FP).\n",
    "\n",
    "---\n",
    "\n",
    "### Conclusions:\n",
    "- The implementation of the function effectively addresses potential edge cases, ensuring robustness and flexibility in its application.\n",
    "- Users can leverage this function to determine the best threshold for their classification problems, improving model performance based on recall and precision considerations.\n",
    "\n"
   ]
  },
  {
   "cell_type": "code",
   "execution_count": null,
   "metadata": {},
   "outputs": [],
   "source": []
  }
 ],
 "metadata": {
  "colab": {
   "authorship_tag": "ABX9TyOtXLBE9Gy3eaL8ZJsWiUIk",
   "provenance": []
  },
  "kernelspec": {
   "display_name": "Python (myenv)",
   "language": "python",
   "name": "myenv"
  },
  "language_info": {
   "codemirror_mode": {
    "name": "ipython",
    "version": 3
   },
   "file_extension": ".py",
   "mimetype": "text/x-python",
   "name": "python",
   "nbconvert_exporter": "python",
   "pygments_lexer": "ipython3",
   "version": "3.8.8"
  }
 },
 "nbformat": 4,
 "nbformat_minor": 4
}
