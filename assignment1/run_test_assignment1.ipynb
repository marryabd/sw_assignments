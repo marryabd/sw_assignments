{
 "cells": [
  {
   "cell_type": "markdown",
   "id": "a827dacb-765e-4492-bb77-5eabb1bf9921",
   "metadata": {},
   "source": [
    "# Testing the `find_best_threshold` Function\n",
    "\n",
    "In this notebook, we will run the unit tests for the `find_best_threshold` function defined in the `modul_1.functions` module. The tests check various scenarios, including normal input, edge cases, and error handling.\n",
    "\n",
    "## Importing Required Libraries\n",
    "\n",
    "Let's start by importing the necessary libraries and the test class.\n"
   ]
  },
  {
   "cell_type": "code",
   "execution_count": 1,
   "id": "dceaa6a5-e30f-4c75-ba34-77106f913425",
   "metadata": {},
   "outputs": [],
   "source": [
    "# Importing necessary libraries\n",
    "import unittest\n",
    "from tests.test_best_threshold import TestBestThreshold\n"
   ]
  },
  {
   "cell_type": "markdown",
   "id": "87e0f409-3675-42f8-9fcd-1b05961effe7",
   "metadata": {},
   "source": [
    "## Running the Tests\n",
    "\n",
    "Now we will create a test suite and run all the tests in the `TestBestThreshold` class.\n"
   ]
  },
  {
   "cell_type": "code",
   "execution_count": 2,
   "id": "b8cf0c56-a622-454a-9104-607bfe500dda",
   "metadata": {},
   "outputs": [
    {
     "name": "stderr",
     "output_type": "stream",
     "text": [
      "test_all_zero_inputs (tests.test_best_threshold.TestBestThreshold)\n",
      "Test the function's behavior with all zero values. ... ok\n",
      "test_empty_input_lists (tests.test_best_threshold.TestBestThreshold)\n",
      "Test handling of empty input lists. ... ok\n",
      "test_input_length_mismatch (tests.test_best_threshold.TestBestThreshold)\n",
      "Test that all input lists must have the same length. ... ok\n",
      "test_non_negative_values (tests.test_best_threshold.TestBestThreshold)\n",
      "Test that input values must be non-negative. ... ok\n",
      "test_normal_case (tests.test_best_threshold.TestBestThreshold)\n",
      "Test with standard input values. ... ok\n",
      "test_zero_tp_fn_combination (tests.test_best_threshold.TestBestThreshold)\n",
      "Test the behavior when both TP and FN are zero for some thresholds. ... ok\n",
      "\n",
      "----------------------------------------------------------------------\n",
      "Ran 6 tests in 0.017s\n",
      "\n",
      "OK\n"
     ]
    },
    {
     "data": {
      "text/plain": [
       "<unittest.runner.TextTestResult run=6 errors=0 failures=0>"
      ]
     },
     "execution_count": 2,
     "metadata": {},
     "output_type": "execute_result"
    }
   ],
   "source": [
    "# Create a test suite and run the tests\n",
    "suite = unittest.TestLoader().loadTestsFromTestCase(TestBestThreshold)\n",
    "unittest.TextTestRunner(verbosity=2).run(suite)\n"
   ]
  },
  {
   "cell_type": "markdown",
   "id": "b2f11b83-415d-41ac-9363-2c4f64945255",
   "metadata": {},
   "source": [
    "## Summary\n",
    "\n",
    "In this notebook, we executed a series of unit tests for the `find_best_threshold` function. The tests covered a variety of scenarios, including:\n",
    "\n",
    "- **Normal Case**: Evaluating the function with standard input values to ensure it returns the expected best threshold.\n",
    "- **Edge Cases**: Testing how the function handles inputs where true positives (TP) and false negatives (FN) are zero, as well as scenarios involving empty input lists and mismatched lengths.\n",
    "- **Warning Conditions**: Ensuring that appropriate warnings are raised when both TP and FN are zero, or when precision cannot be calculated due to zero values for true positives and false positives.\n",
    "\n",
    "All tests passed successfully, indicating that the function behaves as expected under the tested conditions. The implementation effectively handles various input scenarios and raises warnings when applicable.\n",
    "\n",
    "In conclusion, the `find_best_threshold` function is robust and provides reliable results for determining the best threshold based on recall and precision.\n",
    "\n",
    "---\n",
    "\n",
    "## Version Information\n",
    "\n",
    "- **Python Version**: 3.8.8\n",
    "\n"
   ]
  },
  {
   "cell_type": "code",
   "execution_count": null,
   "id": "f680d77a-9247-4ee2-a7c6-5571d19f58ce",
   "metadata": {},
   "outputs": [],
   "source": []
  }
 ],
 "metadata": {
  "kernelspec": {
   "display_name": "Python (myenv)",
   "language": "python",
   "name": "myenv"
  },
  "language_info": {
   "codemirror_mode": {
    "name": "ipython",
    "version": 3
   },
   "file_extension": ".py",
   "mimetype": "text/x-python",
   "name": "python",
   "nbconvert_exporter": "python",
   "pygments_lexer": "ipython3",
   "version": "3.8.8"
  }
 },
 "nbformat": 4,
 "nbformat_minor": 5
}
